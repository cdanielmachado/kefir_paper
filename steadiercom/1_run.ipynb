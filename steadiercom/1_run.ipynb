{
 "cells": [
  {
   "cell_type": "markdown",
   "id": "a8c883f7-fc8b-42de-acaa-bf19d4ce3239",
   "metadata": {},
   "source": [
    "### Installation"
   ]
  },
  {
   "cell_type": "markdown",
   "id": "bd5b5f3a-d209-453f-b345-08d5791074d8",
   "metadata": {},
   "source": [
    "This will install SteadierCom (lastest version: 0.1.5) and the required dependencies (including SCIP as the default solver).\n",
    "\n",
    "```\n",
    "> pip install steadiercom\n",
    "```"
   ]
  },
  {
   "cell_type": "markdown",
   "id": "43797d04-c120-4f58-9aa3-0eb6c12b770b",
   "metadata": {},
   "source": [
    "### Running"
   ]
  },
  {
   "cell_type": "markdown",
   "id": "0c7a1c5a-eae9-4dcc-96ec-0fa0cea8fdbe",
   "metadata": {},
   "source": [
    "To run the case study: \n",
    "\n",
    "```\n",
    "> steadiercom models/*.xml -c input_data/abundance.tsv --growth 0.05 -m MILK --mediadb input_data/milk_composition.tsv --unlimited input_data/unlimited.txt --sample 100 -o output/simulation --solver scip\n",
    "```"
   ]
  },
  {
   "cell_type": "markdown",
   "id": "f06d0145-cdd1-4e1f-9fa0-3d8efb53b954",
   "metadata": {},
   "source": [
    "Short explanation of the arguments:\n",
    "\n",
    "- `models/*.xml` CarveMe generated models of the four main species in the paper (*A. fabarum, L. kefiranofaciens, L. lactis, L. mesenteroides*)\n",
    "- `-c input_data/abundance.tsv` constrains the relative abundance in the simulation to values (grossly taken) from figure 1 (0.5:0.25:0.20:0.05)\n",
    "- `--growth 0.05` growth rate grossly estimated from figure 1 (assuming 25-fold total biomass increase in 90 hours)\n",
    "- `-m MILK` select MILK as the medium composition\n",
    "- `--mediadb input_data/milk_composition.tsv` medium composition specification (includes maximum uptake rates manually fine-tuned for different compound classes)\n",
    "- `--unlimited input_data/unlimited.txt` list of compounds to be set as unbounded and excluded from cross-feeding analysis (mostly water and minerals)\n",
    "- `--sample 100` run a sampling analysis (based on LP optimization) of alternative flux distributions\n",
    "- `-o output/simulation` output file with list of cross-feeding interactions in TSV format "
   ]
  },
  {
   "cell_type": "code",
   "execution_count": null,
   "id": "774037e0-3a6a-4087-bb8d-20c323dc8a5f",
   "metadata": {},
   "outputs": [],
   "source": []
  }
 ],
 "metadata": {
  "kernelspec": {
   "display_name": "Python 3 (ipykernel)",
   "language": "python",
   "name": "python3"
  },
  "language_info": {
   "codemirror_mode": {
    "name": "ipython",
    "version": 3
   },
   "file_extension": ".py",
   "mimetype": "text/x-python",
   "name": "python",
   "nbconvert_exporter": "python",
   "pygments_lexer": "ipython3",
   "version": "3.10.14"
  }
 },
 "nbformat": 4,
 "nbformat_minor": 5
}
