{
 "cells": [
  {
   "cell_type": "code",
   "execution_count": 1,
   "id": "d0ced19e-b15f-4beb-8ff5-36fdb0c0798b",
   "metadata": {
    "tags": []
   },
   "outputs": [],
   "source": [
    "import pandas as pd"
   ]
  },
  {
   "cell_type": "markdown",
   "id": "2e42a618-8c17-4ac4-9630-a6184baea167",
   "metadata": {
    "tags": []
   },
   "source": [
    "### Load dataframe"
   ]
  },
  {
   "cell_type": "code",
   "execution_count": 2,
   "id": "12b5e4fa-8868-41fe-b682-f424b01f0d51",
   "metadata": {
    "tags": []
   },
   "outputs": [],
   "source": [
    "df = pd.read_csv('output/simulation.tsv', sep='\\t')"
   ]
  },
  {
   "cell_type": "code",
   "execution_count": 7,
   "id": "3488405d-8c4d-4811-abfb-0ce71ce6ca63",
   "metadata": {},
   "outputs": [
    {
     "data": {
      "text/html": [
       "<div>\n",
       "<style scoped>\n",
       "    .dataframe tbody tr th:only-of-type {\n",
       "        vertical-align: middle;\n",
       "    }\n",
       "\n",
       "    .dataframe tbody tr th {\n",
       "        vertical-align: top;\n",
       "    }\n",
       "\n",
       "    .dataframe thead th {\n",
       "        text-align: right;\n",
       "    }\n",
       "</style>\n",
       "<table border=\"1\" class=\"dataframe\">\n",
       "  <thead>\n",
       "    <tr style=\"text-align: right;\">\n",
       "      <th></th>\n",
       "      <th>donor</th>\n",
       "      <th>receiver</th>\n",
       "      <th>compound</th>\n",
       "      <th>mass_rate</th>\n",
       "      <th>rate</th>\n",
       "      <th>frequency</th>\n",
       "      <th>community</th>\n",
       "      <th>medium</th>\n",
       "    </tr>\n",
       "  </thead>\n",
       "  <tbody>\n",
       "    <tr>\n",
       "      <th>0</th>\n",
       "      <td>environment</td>\n",
       "      <td>L_lactis</td>\n",
       "      <td>M_lcts_e</td>\n",
       "      <td>0.185394</td>\n",
       "      <td>0.541619</td>\n",
       "      <td>1.00</td>\n",
       "      <td>kefir</td>\n",
       "      <td>MILK</td>\n",
       "    </tr>\n",
       "    <tr>\n",
       "      <th>1</th>\n",
       "      <td>L_lactis</td>\n",
       "      <td>environment</td>\n",
       "      <td>M_gal_e</td>\n",
       "      <td>0.175781</td>\n",
       "      <td>0.975720</td>\n",
       "      <td>0.03</td>\n",
       "      <td>kefir</td>\n",
       "      <td>MILK</td>\n",
       "    </tr>\n",
       "    <tr>\n",
       "      <th>2</th>\n",
       "      <td>L_kefiranofaciens</td>\n",
       "      <td>environment</td>\n",
       "      <td>M_ac_e</td>\n",
       "      <td>0.097582</td>\n",
       "      <td>1.652698</td>\n",
       "      <td>1.00</td>\n",
       "      <td>kefir</td>\n",
       "      <td>MILK</td>\n",
       "    </tr>\n",
       "    <tr>\n",
       "      <th>3</th>\n",
       "      <td>L_lactis</td>\n",
       "      <td>environment</td>\n",
       "      <td>M_co2_e</td>\n",
       "      <td>0.066902</td>\n",
       "      <td>1.520169</td>\n",
       "      <td>1.00</td>\n",
       "      <td>kefir</td>\n",
       "      <td>MILK</td>\n",
       "    </tr>\n",
       "    <tr>\n",
       "      <th>4</th>\n",
       "      <td>environment</td>\n",
       "      <td>L_mesenteroides</td>\n",
       "      <td>M_lcts_e</td>\n",
       "      <td>0.064962</td>\n",
       "      <td>0.189784</td>\n",
       "      <td>0.94</td>\n",
       "      <td>kefir</td>\n",
       "      <td>MILK</td>\n",
       "    </tr>\n",
       "  </tbody>\n",
       "</table>\n",
       "</div>"
      ],
      "text/plain": [
       "               donor         receiver  compound  mass_rate      rate  \\\n",
       "0        environment         L_lactis  M_lcts_e   0.185394  0.541619   \n",
       "1           L_lactis      environment   M_gal_e   0.175781  0.975720   \n",
       "2  L_kefiranofaciens      environment    M_ac_e   0.097582  1.652698   \n",
       "3           L_lactis      environment   M_co2_e   0.066902  1.520169   \n",
       "4        environment  L_mesenteroides  M_lcts_e   0.064962  0.189784   \n",
       "\n",
       "   frequency community medium  \n",
       "0       1.00     kefir   MILK  \n",
       "1       0.03     kefir   MILK  \n",
       "2       1.00     kefir   MILK  \n",
       "3       1.00     kefir   MILK  \n",
       "4       0.94     kefir   MILK  "
      ]
     },
     "execution_count": 7,
     "metadata": {},
     "output_type": "execute_result"
    }
   ],
   "source": [
    "df.head()"
   ]
  },
  {
   "cell_type": "markdown",
   "id": "2a3ad2a5-c916-488f-a1cb-7528e409b57a",
   "metadata": {},
   "source": [
    "### Analyse results\n",
    "\n",
    "Let's first check for the main interactions highlighted in **Fig. 5e** the paper\n",
    "\n",
    "![Fig 5e part1](output/fig5e1.png)\n",
    "\n",
    "*L. kefiranofaciens*  *\"gives\"* amino acids to *L. mesenteroides*, but this is due to extracellular proteolytic activity, and we do not observe any actual cross-feeding: "
   ]
  },
  {
   "cell_type": "code",
   "execution_count": 22,
   "id": "49416ac2-28aa-4871-a233-16010a8da869",
   "metadata": {
    "tags": []
   },
   "outputs": [
    {
     "data": {
      "text/html": [
       "<div>\n",
       "<style scoped>\n",
       "    .dataframe tbody tr th:only-of-type {\n",
       "        vertical-align: middle;\n",
       "    }\n",
       "\n",
       "    .dataframe tbody tr th {\n",
       "        vertical-align: top;\n",
       "    }\n",
       "\n",
       "    .dataframe thead th {\n",
       "        text-align: right;\n",
       "    }\n",
       "</style>\n",
       "<table border=\"1\" class=\"dataframe\">\n",
       "  <thead>\n",
       "    <tr style=\"text-align: right;\">\n",
       "      <th></th>\n",
       "      <th>donor</th>\n",
       "      <th>receiver</th>\n",
       "      <th>compound</th>\n",
       "      <th>mass_rate</th>\n",
       "      <th>rate</th>\n",
       "      <th>frequency</th>\n",
       "      <th>community</th>\n",
       "      <th>medium</th>\n",
       "    </tr>\n",
       "  </thead>\n",
       "  <tbody>\n",
       "  </tbody>\n",
       "</table>\n",
       "</div>"
      ],
      "text/plain": [
       "Empty DataFrame\n",
       "Columns: [donor, receiver, compound, mass_rate, rate, frequency, community, medium]\n",
       "Index: []"
      ]
     },
     "execution_count": 22,
     "metadata": {},
     "output_type": "execute_result"
    }
   ],
   "source": [
    "df.query('donor == \"L_kefiranofaciens\" and receiver == \"L_mesenteroides\" and frequency > 0.1')"
   ]
  },
  {
   "cell_type": "markdown",
   "id": "8adf6325-1191-40c6-8209-4df7849eb85e",
   "metadata": {},
   "source": [
    "*L. mesenteroides* is expected to donate lactate to *L. kefiranofaciens*. In the simulations we observe exchange of acetaldehyde instead (this is likely due to a common issue with the models generated with CarveMe, they often ferment acetaldehyde instead of acetate and lactate)."
   ]
  },
  {
   "cell_type": "code",
   "execution_count": 10,
   "id": "59265522-937a-4b3c-b368-21c7c89980f7",
   "metadata": {
    "tags": []
   },
   "outputs": [
    {
     "data": {
      "text/html": [
       "<div>\n",
       "<style scoped>\n",
       "    .dataframe tbody tr th:only-of-type {\n",
       "        vertical-align: middle;\n",
       "    }\n",
       "\n",
       "    .dataframe tbody tr th {\n",
       "        vertical-align: top;\n",
       "    }\n",
       "\n",
       "    .dataframe thead th {\n",
       "        text-align: right;\n",
       "    }\n",
       "</style>\n",
       "<table border=\"1\" class=\"dataframe\">\n",
       "  <thead>\n",
       "    <tr style=\"text-align: right;\">\n",
       "      <th></th>\n",
       "      <th>donor</th>\n",
       "      <th>receiver</th>\n",
       "      <th>compound</th>\n",
       "      <th>mass_rate</th>\n",
       "      <th>rate</th>\n",
       "      <th>frequency</th>\n",
       "      <th>community</th>\n",
       "      <th>medium</th>\n",
       "    </tr>\n",
       "  </thead>\n",
       "  <tbody>\n",
       "    <tr>\n",
       "      <th>15</th>\n",
       "      <td>L_mesenteroides</td>\n",
       "      <td>L_kefiranofaciens</td>\n",
       "      <td>M_acald_e</td>\n",
       "      <td>0.014656</td>\n",
       "      <td>0.332695</td>\n",
       "      <td>0.51</td>\n",
       "      <td>kefir</td>\n",
       "      <td>MILK</td>\n",
       "    </tr>\n",
       "    <tr>\n",
       "      <th>122</th>\n",
       "      <td>L_mesenteroides</td>\n",
       "      <td>L_kefiranofaciens</td>\n",
       "      <td>M_h2s_e</td>\n",
       "      <td>0.000207</td>\n",
       "      <td>0.006081</td>\n",
       "      <td>1.00</td>\n",
       "      <td>kefir</td>\n",
       "      <td>MILK</td>\n",
       "    </tr>\n",
       "    <tr>\n",
       "      <th>156</th>\n",
       "      <td>L_mesenteroides</td>\n",
       "      <td>L_kefiranofaciens</td>\n",
       "      <td>M_nh4_e</td>\n",
       "      <td>0.000053</td>\n",
       "      <td>0.002953</td>\n",
       "      <td>0.23</td>\n",
       "      <td>kefir</td>\n",
       "      <td>MILK</td>\n",
       "    </tr>\n",
       "  </tbody>\n",
       "</table>\n",
       "</div>"
      ],
      "text/plain": [
       "               donor           receiver   compound  mass_rate      rate  \\\n",
       "15   L_mesenteroides  L_kefiranofaciens  M_acald_e   0.014656  0.332695   \n",
       "122  L_mesenteroides  L_kefiranofaciens    M_h2s_e   0.000207  0.006081   \n",
       "156  L_mesenteroides  L_kefiranofaciens    M_nh4_e   0.000053  0.002953   \n",
       "\n",
       "     frequency community medium  \n",
       "15        0.51     kefir   MILK  \n",
       "122       1.00     kefir   MILK  \n",
       "156       0.23     kefir   MILK  "
      ]
     },
     "execution_count": 10,
     "metadata": {},
     "output_type": "execute_result"
    }
   ],
   "source": [
    "df.query('receiver == \"L_kefiranofaciens\" and donor == \"L_mesenteroides\" and frequency > 0.1' )"
   ]
  },
  {
   "cell_type": "markdown",
   "id": "822155f2-abd3-4c93-8327-9612a884356f",
   "metadata": {},
   "source": [
    "![Fig 5e part1](output/fig5e1.png)\n",
    "\n",
    "*L. lactis* is expected to donate lactate, GABA and some amino acids to *A. fabarum*. In the simulations we observe the exchange of GABA (M_4abut_e). We also observe exchange of glycerol and arginine, although these were not observed experimentally."
   ]
  },
  {
   "cell_type": "code",
   "execution_count": 11,
   "id": "9f1fc0d1-e9f0-4660-badf-209770063a49",
   "metadata": {
    "tags": []
   },
   "outputs": [
    {
     "data": {
      "text/html": [
       "<div>\n",
       "<style scoped>\n",
       "    .dataframe tbody tr th:only-of-type {\n",
       "        vertical-align: middle;\n",
       "    }\n",
       "\n",
       "    .dataframe tbody tr th {\n",
       "        vertical-align: top;\n",
       "    }\n",
       "\n",
       "    .dataframe thead th {\n",
       "        text-align: right;\n",
       "    }\n",
       "</style>\n",
       "<table border=\"1\" class=\"dataframe\">\n",
       "  <thead>\n",
       "    <tr style=\"text-align: right;\">\n",
       "      <th></th>\n",
       "      <th>donor</th>\n",
       "      <th>receiver</th>\n",
       "      <th>compound</th>\n",
       "      <th>mass_rate</th>\n",
       "      <th>rate</th>\n",
       "      <th>frequency</th>\n",
       "      <th>community</th>\n",
       "      <th>medium</th>\n",
       "    </tr>\n",
       "  </thead>\n",
       "  <tbody>\n",
       "    <tr>\n",
       "      <th>30</th>\n",
       "      <td>L_lactis</td>\n",
       "      <td>A_fabarum</td>\n",
       "      <td>M_4abut_e</td>\n",
       "      <td>0.004531</td>\n",
       "      <td>0.043942</td>\n",
       "      <td>0.36</td>\n",
       "      <td>kefir</td>\n",
       "      <td>MILK</td>\n",
       "    </tr>\n",
       "    <tr>\n",
       "      <th>44</th>\n",
       "      <td>L_lactis</td>\n",
       "      <td>A_fabarum</td>\n",
       "      <td>M_glyc_e</td>\n",
       "      <td>0.001961</td>\n",
       "      <td>0.021295</td>\n",
       "      <td>0.99</td>\n",
       "      <td>kefir</td>\n",
       "      <td>MILK</td>\n",
       "    </tr>\n",
       "    <tr>\n",
       "      <th>130</th>\n",
       "      <td>L_lactis</td>\n",
       "      <td>A_fabarum</td>\n",
       "      <td>M_arg__L_e</td>\n",
       "      <td>0.000130</td>\n",
       "      <td>0.000739</td>\n",
       "      <td>0.78</td>\n",
       "      <td>kefir</td>\n",
       "      <td>MILK</td>\n",
       "    </tr>\n",
       "  </tbody>\n",
       "</table>\n",
       "</div>"
      ],
      "text/plain": [
       "        donor   receiver    compound  mass_rate      rate  frequency  \\\n",
       "30   L_lactis  A_fabarum   M_4abut_e   0.004531  0.043942       0.36   \n",
       "44   L_lactis  A_fabarum    M_glyc_e   0.001961  0.021295       0.99   \n",
       "130  L_lactis  A_fabarum  M_arg__L_e   0.000130  0.000739       0.78   \n",
       "\n",
       "    community medium  \n",
       "30      kefir   MILK  \n",
       "44      kefir   MILK  \n",
       "130     kefir   MILK  "
      ]
     },
     "execution_count": 11,
     "metadata": {},
     "output_type": "execute_result"
    }
   ],
   "source": [
    "df.query('donor == \"L_lactis\" and receiver == \"A_fabarum\" and frequency > 0.1')"
   ]
  },
  {
   "cell_type": "markdown",
   "id": "b4b4ebdb-f4fc-446a-89bd-10686f6938b9",
   "metadata": {},
   "source": [
    "No exchange was observed experimentally from *A. fabarum* to *L. lactis*, and indeed none are predicted in the simulations either:"
   ]
  },
  {
   "cell_type": "code",
   "execution_count": 14,
   "id": "fb5b372b",
   "metadata": {},
   "outputs": [
    {
     "data": {
      "text/html": [
       "<div>\n",
       "<style scoped>\n",
       "    .dataframe tbody tr th:only-of-type {\n",
       "        vertical-align: middle;\n",
       "    }\n",
       "\n",
       "    .dataframe tbody tr th {\n",
       "        vertical-align: top;\n",
       "    }\n",
       "\n",
       "    .dataframe thead th {\n",
       "        text-align: right;\n",
       "    }\n",
       "</style>\n",
       "<table border=\"1\" class=\"dataframe\">\n",
       "  <thead>\n",
       "    <tr style=\"text-align: right;\">\n",
       "      <th></th>\n",
       "      <th>donor</th>\n",
       "      <th>receiver</th>\n",
       "      <th>compound</th>\n",
       "      <th>mass_rate</th>\n",
       "      <th>rate</th>\n",
       "      <th>frequency</th>\n",
       "      <th>community</th>\n",
       "      <th>medium</th>\n",
       "    </tr>\n",
       "  </thead>\n",
       "  <tbody>\n",
       "  </tbody>\n",
       "</table>\n",
       "</div>"
      ],
      "text/plain": [
       "Empty DataFrame\n",
       "Columns: [donor, receiver, compound, mass_rate, rate, frequency, community, medium]\n",
       "Index: []"
      ]
     },
     "execution_count": 14,
     "metadata": {},
     "output_type": "execute_result"
    }
   ],
   "source": [
    "df.query('donor == \"A_fabarum\" and receiver == \"L_lactis\" and frequency > 0.1')"
   ]
  },
  {
   "cell_type": "markdown",
   "id": "b5994abf-468b-4ef3-8de8-ffd6524af686",
   "metadata": {},
   "source": [
    "### Network visualization\n",
    "\n",
    "Let's look at all potential cross-feeding interactions (with a threshold of 10% frequency in the sampling, and a mass rate of at least 0.001 gr/gDW/h). "
   ]
  },
  {
   "cell_type": "code",
   "execution_count": 16,
   "id": "4276a64f-6989-418c-9b5b-7b8a4acda2fe",
   "metadata": {
    "tags": []
   },
   "outputs": [
    {
     "name": "stdout",
     "output_type": "stream",
     "text": [
      "Warning: When  cdn_resources is 'local' jupyter notebook has issues displaying graphics on chrome/safari. Use cdn_resources='in_line' or cdn_resources='remote' if you have issues viewing graphics in a notebook.\n",
      "output/network.html\n"
     ]
    },
    {
     "data": {
      "text/html": [
       "\n",
       "        <iframe\n",
       "            width=\"800px\"\n",
       "            height=\"500px\"\n",
       "            src=\"output/network.html\"\n",
       "            frameborder=\"0\"\n",
       "            allowfullscreen\n",
       "            \n",
       "        ></iframe>\n",
       "        "
      ],
      "text/plain": [
       "<IPython.lib.display.IFrame at 0x11b8272e0>"
      ]
     },
     "execution_count": 16,
     "metadata": {},
     "output_type": "execute_result"
    }
   ],
   "source": [
    "from pyvis.network import Network\n",
    "\n",
    "net = Network(directed=True, notebook=True, height='500px', width='800px')\n",
    "\n",
    "selected = df.query(\"frequency > 0.1 and mass_rate > 0.001 and donor != 'environment' and receiver != 'environment'\")\n",
    "\n",
    "species = set(selected['donor']) | set(selected['receiver'])\n",
    "net.add_nodes(species)\n",
    "\n",
    "for cpd in set(selected['compound']):\n",
    "    net.add_node(cpd, shape='box')\n",
    "\n",
    "for _, row in selected.iterrows():\n",
    "    net.add_edge(row['donor'], row['compound'], value=row['mass_rate'])\n",
    "    net.add_edge(row['compound'], row['receiver'], value=row['mass_rate'])\n",
    "\n",
    "net.show('output/network.html')"
   ]
  },
  {
   "cell_type": "markdown",
   "id": "48a86100-bf2f-4163-8b4b-26ad5d3dd5e8",
   "metadata": {},
   "source": [
    "----------\n",
    "### Comparing with previous results obtained with SMETANA\n",
    "\n",
    "Just for reference... (to remove for the course)"
   ]
  },
  {
   "cell_type": "code",
   "execution_count": 17,
   "id": "b5aedd2d-6898-467a-b8fe-d5e436eb8b83",
   "metadata": {
    "tags": []
   },
   "outputs": [],
   "source": [
    "df2 = pd.read_csv('output/smetana.tsv', sep='\\t')"
   ]
  },
  {
   "cell_type": "code",
   "execution_count": 18,
   "id": "9f1243b8-20fb-4a55-9e98-39607f83ed9e",
   "metadata": {
    "tags": []
   },
   "outputs": [
    {
     "data": {
      "text/html": [
       "<div>\n",
       "<style scoped>\n",
       "    .dataframe tbody tr th:only-of-type {\n",
       "        vertical-align: middle;\n",
       "    }\n",
       "\n",
       "    .dataframe tbody tr th {\n",
       "        vertical-align: top;\n",
       "    }\n",
       "\n",
       "    .dataframe thead th {\n",
       "        text-align: right;\n",
       "    }\n",
       "</style>\n",
       "<table border=\"1\" class=\"dataframe\">\n",
       "  <thead>\n",
       "    <tr style=\"text-align: right;\">\n",
       "      <th></th>\n",
       "      <th>community</th>\n",
       "      <th>medium</th>\n",
       "      <th>receiver</th>\n",
       "      <th>donor</th>\n",
       "      <th>compound</th>\n",
       "      <th>scs</th>\n",
       "      <th>mus</th>\n",
       "      <th>mps</th>\n",
       "      <th>smetana</th>\n",
       "    </tr>\n",
       "  </thead>\n",
       "  <tbody>\n",
       "    <tr>\n",
       "      <th>35</th>\n",
       "      <td>kefir</td>\n",
       "      <td>MILK</td>\n",
       "      <td>L_mesenteroides</td>\n",
       "      <td>L_kefiranofaciens</td>\n",
       "      <td>M_acald_e</td>\n",
       "      <td>NaN</td>\n",
       "      <td>0.17</td>\n",
       "      <td>1</td>\n",
       "      <td>0.17</td>\n",
       "    </tr>\n",
       "    <tr>\n",
       "      <th>38</th>\n",
       "      <td>kefir</td>\n",
       "      <td>MILK</td>\n",
       "      <td>L_mesenteroides</td>\n",
       "      <td>L_kefiranofaciens</td>\n",
       "      <td>M_glc__D_e</td>\n",
       "      <td>NaN</td>\n",
       "      <td>0.45</td>\n",
       "      <td>1</td>\n",
       "      <td>0.45</td>\n",
       "    </tr>\n",
       "    <tr>\n",
       "      <th>39</th>\n",
       "      <td>kefir</td>\n",
       "      <td>MILK</td>\n",
       "      <td>L_mesenteroides</td>\n",
       "      <td>L_kefiranofaciens</td>\n",
       "      <td>M_h2s_e</td>\n",
       "      <td>NaN</td>\n",
       "      <td>0.82</td>\n",
       "      <td>1</td>\n",
       "      <td>0.82</td>\n",
       "    </tr>\n",
       "  </tbody>\n",
       "</table>\n",
       "</div>"
      ],
      "text/plain": [
       "   community medium         receiver              donor    compound  scs  \\\n",
       "35     kefir   MILK  L_mesenteroides  L_kefiranofaciens   M_acald_e  NaN   \n",
       "38     kefir   MILK  L_mesenteroides  L_kefiranofaciens  M_glc__D_e  NaN   \n",
       "39     kefir   MILK  L_mesenteroides  L_kefiranofaciens     M_h2s_e  NaN   \n",
       "\n",
       "     mus  mps  smetana  \n",
       "35  0.17    1     0.17  \n",
       "38  0.45    1     0.45  \n",
       "39  0.82    1     0.82  "
      ]
     },
     "execution_count": 18,
     "metadata": {},
     "output_type": "execute_result"
    }
   ],
   "source": [
    "df2.query('donor == \"L_kefiranofaciens\" and receiver == \"L_mesenteroides\" and smetana > 0.1')"
   ]
  },
  {
   "cell_type": "code",
   "execution_count": 19,
   "id": "3ef84f23-c7ac-40ea-9cb9-11d01361a4c8",
   "metadata": {
    "tags": []
   },
   "outputs": [
    {
     "data": {
      "text/html": [
       "<div>\n",
       "<style scoped>\n",
       "    .dataframe tbody tr th:only-of-type {\n",
       "        vertical-align: middle;\n",
       "    }\n",
       "\n",
       "    .dataframe tbody tr th {\n",
       "        vertical-align: top;\n",
       "    }\n",
       "\n",
       "    .dataframe thead th {\n",
       "        text-align: right;\n",
       "    }\n",
       "</style>\n",
       "<table border=\"1\" class=\"dataframe\">\n",
       "  <thead>\n",
       "    <tr style=\"text-align: right;\">\n",
       "      <th></th>\n",
       "      <th>community</th>\n",
       "      <th>medium</th>\n",
       "      <th>receiver</th>\n",
       "      <th>donor</th>\n",
       "      <th>compound</th>\n",
       "      <th>scs</th>\n",
       "      <th>mus</th>\n",
       "      <th>mps</th>\n",
       "      <th>smetana</th>\n",
       "    </tr>\n",
       "  </thead>\n",
       "  <tbody>\n",
       "    <tr>\n",
       "      <th>8</th>\n",
       "      <td>kefir</td>\n",
       "      <td>MILK</td>\n",
       "      <td>L_kefiranofaciens</td>\n",
       "      <td>L_mesenteroides</td>\n",
       "      <td>M_acald_e</td>\n",
       "      <td>NaN</td>\n",
       "      <td>0.29</td>\n",
       "      <td>1</td>\n",
       "      <td>0.29</td>\n",
       "    </tr>\n",
       "    <tr>\n",
       "      <th>9</th>\n",
       "      <td>kefir</td>\n",
       "      <td>MILK</td>\n",
       "      <td>L_kefiranofaciens</td>\n",
       "      <td>L_mesenteroides</td>\n",
       "      <td>M_h2s_e</td>\n",
       "      <td>NaN</td>\n",
       "      <td>0.88</td>\n",
       "      <td>1</td>\n",
       "      <td>0.88</td>\n",
       "    </tr>\n",
       "  </tbody>\n",
       "</table>\n",
       "</div>"
      ],
      "text/plain": [
       "  community medium           receiver            donor   compound  scs   mus  \\\n",
       "8     kefir   MILK  L_kefiranofaciens  L_mesenteroides  M_acald_e  NaN  0.29   \n",
       "9     kefir   MILK  L_kefiranofaciens  L_mesenteroides    M_h2s_e  NaN  0.88   \n",
       "\n",
       "   mps  smetana  \n",
       "8    1     0.29  \n",
       "9    1     0.88  "
      ]
     },
     "execution_count": 19,
     "metadata": {},
     "output_type": "execute_result"
    }
   ],
   "source": [
    "df2.query('receiver == \"L_kefiranofaciens\" and donor == \"L_mesenteroides\" and smetana > 0.1' )"
   ]
  },
  {
   "cell_type": "code",
   "execution_count": 20,
   "id": "40ec1439-6ecd-4dc6-bd3c-f9c3a1f51c32",
   "metadata": {
    "tags": []
   },
   "outputs": [
    {
     "data": {
      "text/html": [
       "<div>\n",
       "<style scoped>\n",
       "    .dataframe tbody tr th:only-of-type {\n",
       "        vertical-align: middle;\n",
       "    }\n",
       "\n",
       "    .dataframe tbody tr th {\n",
       "        vertical-align: top;\n",
       "    }\n",
       "\n",
       "    .dataframe thead th {\n",
       "        text-align: right;\n",
       "    }\n",
       "</style>\n",
       "<table border=\"1\" class=\"dataframe\">\n",
       "  <thead>\n",
       "    <tr style=\"text-align: right;\">\n",
       "      <th></th>\n",
       "      <th>community</th>\n",
       "      <th>medium</th>\n",
       "      <th>receiver</th>\n",
       "      <th>donor</th>\n",
       "      <th>compound</th>\n",
       "      <th>scs</th>\n",
       "      <th>mus</th>\n",
       "      <th>mps</th>\n",
       "      <th>smetana</th>\n",
       "    </tr>\n",
       "  </thead>\n",
       "  <tbody>\n",
       "    <tr>\n",
       "      <th>61</th>\n",
       "      <td>kefir</td>\n",
       "      <td>MILK</td>\n",
       "      <td>A_fabarum</td>\n",
       "      <td>L_lactis</td>\n",
       "      <td>M_4abut_e</td>\n",
       "      <td>NaN</td>\n",
       "      <td>0.18</td>\n",
       "      <td>1</td>\n",
       "      <td>0.18</td>\n",
       "    </tr>\n",
       "    <tr>\n",
       "      <th>62</th>\n",
       "      <td>kefir</td>\n",
       "      <td>MILK</td>\n",
       "      <td>A_fabarum</td>\n",
       "      <td>L_lactis</td>\n",
       "      <td>M_acald_e</td>\n",
       "      <td>NaN</td>\n",
       "      <td>0.18</td>\n",
       "      <td>1</td>\n",
       "      <td>0.18</td>\n",
       "    </tr>\n",
       "    <tr>\n",
       "      <th>64</th>\n",
       "      <td>kefir</td>\n",
       "      <td>MILK</td>\n",
       "      <td>A_fabarum</td>\n",
       "      <td>L_lactis</td>\n",
       "      <td>M_glyc_e</td>\n",
       "      <td>NaN</td>\n",
       "      <td>0.18</td>\n",
       "      <td>1</td>\n",
       "      <td>0.18</td>\n",
       "    </tr>\n",
       "    <tr>\n",
       "      <th>65</th>\n",
       "      <td>kefir</td>\n",
       "      <td>MILK</td>\n",
       "      <td>A_fabarum</td>\n",
       "      <td>L_lactis</td>\n",
       "      <td>M_h2s_e</td>\n",
       "      <td>NaN</td>\n",
       "      <td>0.75</td>\n",
       "      <td>1</td>\n",
       "      <td>0.75</td>\n",
       "    </tr>\n",
       "  </tbody>\n",
       "</table>\n",
       "</div>"
      ],
      "text/plain": [
       "   community medium   receiver     donor   compound  scs   mus  mps  smetana\n",
       "61     kefir   MILK  A_fabarum  L_lactis  M_4abut_e  NaN  0.18    1     0.18\n",
       "62     kefir   MILK  A_fabarum  L_lactis  M_acald_e  NaN  0.18    1     0.18\n",
       "64     kefir   MILK  A_fabarum  L_lactis   M_glyc_e  NaN  0.18    1     0.18\n",
       "65     kefir   MILK  A_fabarum  L_lactis    M_h2s_e  NaN  0.75    1     0.75"
      ]
     },
     "execution_count": 20,
     "metadata": {},
     "output_type": "execute_result"
    }
   ],
   "source": [
    "df2.query('donor == \"L_lactis\" and receiver == \"A_fabarum\" and smetana > 0.1')"
   ]
  },
  {
   "cell_type": "code",
   "execution_count": 21,
   "id": "067cb0a0-a9a7-4084-a91a-d26f635af9da",
   "metadata": {
    "tags": []
   },
   "outputs": [
    {
     "name": "stdout",
     "output_type": "stream",
     "text": [
      "Warning: When  cdn_resources is 'local' jupyter notebook has issues displaying graphics on chrome/safari. Use cdn_resources='in_line' or cdn_resources='remote' if you have issues viewing graphics in a notebook.\n",
      "output/network2.html\n"
     ]
    },
    {
     "data": {
      "text/html": [
       "\n",
       "        <iframe\n",
       "            width=\"800px\"\n",
       "            height=\"500px\"\n",
       "            src=\"output/network2.html\"\n",
       "            frameborder=\"0\"\n",
       "            allowfullscreen\n",
       "            \n",
       "        ></iframe>\n",
       "        "
      ],
      "text/plain": [
       "<IPython.lib.display.IFrame at 0x11b84e020>"
      ]
     },
     "execution_count": 21,
     "metadata": {},
     "output_type": "execute_result"
    }
   ],
   "source": [
    "from pyvis.network import Network\n",
    "\n",
    "net = Network(directed=True, notebook=True, height='500px', width='800px')\n",
    "\n",
    "selected = df2.query(\"smetana > 0.1\")\n",
    "\n",
    "species = set(selected['donor']) | set(selected['receiver'])\n",
    "net.add_nodes(species)\n",
    "\n",
    "for cpd in set(selected['compound']):\n",
    "    net.add_node(cpd, shape='box')\n",
    "\n",
    "for _, row in selected.iterrows():\n",
    "    net.add_edge(row['donor'], row['compound'], value=row['smetana'])\n",
    "    net.add_edge(row['compound'], row['receiver'], value=row['smetana'])\n",
    "\n",
    "net.show('output/network2.html')"
   ]
  },
  {
   "cell_type": "code",
   "execution_count": null,
   "id": "3a8e85b9-2c42-4869-be26-890aba55df66",
   "metadata": {},
   "outputs": [],
   "source": []
  }
 ],
 "metadata": {
  "kernelspec": {
   "display_name": "Python 3 (ipykernel)",
   "language": "python",
   "name": "python3"
  },
  "language_info": {
   "codemirror_mode": {
    "name": "ipython",
    "version": 3
   },
   "file_extension": ".py",
   "mimetype": "text/x-python",
   "name": "python",
   "nbconvert_exporter": "python",
   "pygments_lexer": "ipython3",
   "version": "3.10.14"
  }
 },
 "nbformat": 4,
 "nbformat_minor": 5
}
