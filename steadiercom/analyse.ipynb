{
 "cells": [
  {
   "cell_type": "code",
   "execution_count": 1,
   "id": "d0ced19e-b15f-4beb-8ff5-36fdb0c0798b",
   "metadata": {
    "tags": []
   },
   "outputs": [],
   "source": [
    "import pandas as pd"
   ]
  },
  {
   "cell_type": "markdown",
   "id": "2e42a618-8c17-4ac4-9630-a6184baea167",
   "metadata": {
    "tags": []
   },
   "source": [
    "### Analysing the output of:\n",
    "\n",
    "`steadiercom *.xml -c abundance.tsv -m MILK --mediadb milk_composition.tsv --growth 0.05 --unlimited unlimited.txt --sample 100` \n",
    "\n",
    "- growth rate grossly estimated from figure 1 (assuming 25-fold total biomass increase in 90 hours)\n",
    "- relative abundances also grossly taken from figure 1 (500:250:200:50)"
   ]
  },
  {
   "cell_type": "code",
   "execution_count": 2,
   "id": "12b5e4fa-8868-41fe-b682-f424b01f0d51",
   "metadata": {
    "tags": []
   },
   "outputs": [],
   "source": [
    "df = pd.read_csv('output.tsv', sep='\\t')"
   ]
  },
  {
   "cell_type": "code",
   "execution_count": 3,
   "id": "49416ac2-28aa-4871-a233-16010a8da869",
   "metadata": {
    "tags": []
   },
   "outputs": [
    {
     "data": {
      "text/html": [
       "<div>\n",
       "<style scoped>\n",
       "    .dataframe tbody tr th:only-of-type {\n",
       "        vertical-align: middle;\n",
       "    }\n",
       "\n",
       "    .dataframe tbody tr th {\n",
       "        vertical-align: top;\n",
       "    }\n",
       "\n",
       "    .dataframe thead th {\n",
       "        text-align: right;\n",
       "    }\n",
       "</style>\n",
       "<table border=\"1\" class=\"dataframe\">\n",
       "  <thead>\n",
       "    <tr style=\"text-align: right;\">\n",
       "      <th></th>\n",
       "      <th>donor</th>\n",
       "      <th>receiver</th>\n",
       "      <th>compound</th>\n",
       "      <th>mass_rate</th>\n",
       "      <th>rate</th>\n",
       "      <th>frequency</th>\n",
       "      <th>community</th>\n",
       "      <th>medium</th>\n",
       "    </tr>\n",
       "  </thead>\n",
       "  <tbody>\n",
       "    <tr>\n",
       "      <th>88</th>\n",
       "      <td>L_kefiranofaciens</td>\n",
       "      <td>L_mesenteroides</td>\n",
       "      <td>M_arg__L_e</td>\n",
       "      <td>0.000506</td>\n",
       "      <td>0.002886</td>\n",
       "      <td>0.91</td>\n",
       "      <td>kefir</td>\n",
       "      <td>MILK</td>\n",
       "    </tr>\n",
       "  </tbody>\n",
       "</table>\n",
       "</div>"
      ],
      "text/plain": [
       "                donor         receiver    compound  mass_rate      rate  \\\n",
       "88  L_kefiranofaciens  L_mesenteroides  M_arg__L_e   0.000506  0.002886   \n",
       "\n",
       "    frequency community medium  \n",
       "88       0.91     kefir   MILK  "
      ]
     },
     "execution_count": 3,
     "metadata": {},
     "output_type": "execute_result"
    }
   ],
   "source": [
    "df.query('donor == \"L_kefiranofaciens\" and receiver == \"L_mesenteroides\" and frequency > 0.1')"
   ]
  },
  {
   "cell_type": "code",
   "execution_count": 4,
   "id": "59265522-937a-4b3c-b368-21c7c89980f7",
   "metadata": {
    "tags": []
   },
   "outputs": [
    {
     "data": {
      "text/html": [
       "<div>\n",
       "<style scoped>\n",
       "    .dataframe tbody tr th:only-of-type {\n",
       "        vertical-align: middle;\n",
       "    }\n",
       "\n",
       "    .dataframe tbody tr th {\n",
       "        vertical-align: top;\n",
       "    }\n",
       "\n",
       "    .dataframe thead th {\n",
       "        text-align: right;\n",
       "    }\n",
       "</style>\n",
       "<table border=\"1\" class=\"dataframe\">\n",
       "  <thead>\n",
       "    <tr style=\"text-align: right;\">\n",
       "      <th></th>\n",
       "      <th>donor</th>\n",
       "      <th>receiver</th>\n",
       "      <th>compound</th>\n",
       "      <th>mass_rate</th>\n",
       "      <th>rate</th>\n",
       "      <th>frequency</th>\n",
       "      <th>community</th>\n",
       "      <th>medium</th>\n",
       "    </tr>\n",
       "  </thead>\n",
       "  <tbody>\n",
       "    <tr>\n",
       "      <th>27</th>\n",
       "      <td>L_mesenteroides</td>\n",
       "      <td>L_kefiranofaciens</td>\n",
       "      <td>M_acald_e</td>\n",
       "      <td>0.004578</td>\n",
       "      <td>0.103917</td>\n",
       "      <td>0.44</td>\n",
       "      <td>kefir</td>\n",
       "      <td>MILK</td>\n",
       "    </tr>\n",
       "    <tr>\n",
       "      <th>123</th>\n",
       "      <td>L_mesenteroides</td>\n",
       "      <td>L_kefiranofaciens</td>\n",
       "      <td>M_h2s_e</td>\n",
       "      <td>0.000228</td>\n",
       "      <td>0.006697</td>\n",
       "      <td>0.44</td>\n",
       "      <td>kefir</td>\n",
       "      <td>MILK</td>\n",
       "    </tr>\n",
       "    <tr>\n",
       "      <th>146</th>\n",
       "      <td>L_mesenteroides</td>\n",
       "      <td>L_kefiranofaciens</td>\n",
       "      <td>M_nh4_e</td>\n",
       "      <td>0.000110</td>\n",
       "      <td>0.006077</td>\n",
       "      <td>0.76</td>\n",
       "      <td>kefir</td>\n",
       "      <td>MILK</td>\n",
       "    </tr>\n",
       "  </tbody>\n",
       "</table>\n",
       "</div>"
      ],
      "text/plain": [
       "               donor           receiver   compound  mass_rate      rate  \\\n",
       "27   L_mesenteroides  L_kefiranofaciens  M_acald_e   0.004578  0.103917   \n",
       "123  L_mesenteroides  L_kefiranofaciens    M_h2s_e   0.000228  0.006697   \n",
       "146  L_mesenteroides  L_kefiranofaciens    M_nh4_e   0.000110  0.006077   \n",
       "\n",
       "     frequency community medium  \n",
       "27        0.44     kefir   MILK  \n",
       "123       0.44     kefir   MILK  \n",
       "146       0.76     kefir   MILK  "
      ]
     },
     "execution_count": 4,
     "metadata": {},
     "output_type": "execute_result"
    }
   ],
   "source": [
    "df.query('receiver == \"L_kefiranofaciens\" and donor == \"L_mesenteroides\" and frequency > 0.1' )"
   ]
  },
  {
   "cell_type": "code",
   "execution_count": 5,
   "id": "9f1fc0d1-e9f0-4660-badf-209770063a49",
   "metadata": {
    "tags": []
   },
   "outputs": [
    {
     "data": {
      "text/html": [
       "<div>\n",
       "<style scoped>\n",
       "    .dataframe tbody tr th:only-of-type {\n",
       "        vertical-align: middle;\n",
       "    }\n",
       "\n",
       "    .dataframe tbody tr th {\n",
       "        vertical-align: top;\n",
       "    }\n",
       "\n",
       "    .dataframe thead th {\n",
       "        text-align: right;\n",
       "    }\n",
       "</style>\n",
       "<table border=\"1\" class=\"dataframe\">\n",
       "  <thead>\n",
       "    <tr style=\"text-align: right;\">\n",
       "      <th></th>\n",
       "      <th>donor</th>\n",
       "      <th>receiver</th>\n",
       "      <th>compound</th>\n",
       "      <th>mass_rate</th>\n",
       "      <th>rate</th>\n",
       "      <th>frequency</th>\n",
       "      <th>community</th>\n",
       "      <th>medium</th>\n",
       "    </tr>\n",
       "  </thead>\n",
       "  <tbody>\n",
       "    <tr>\n",
       "      <th>29</th>\n",
       "      <td>L_lactis</td>\n",
       "      <td>A_fabarum</td>\n",
       "      <td>M_4abut_e</td>\n",
       "      <td>0.004017</td>\n",
       "      <td>0.038957</td>\n",
       "      <td>0.23</td>\n",
       "      <td>kefir</td>\n",
       "      <td>MILK</td>\n",
       "    </tr>\n",
       "    <tr>\n",
       "      <th>90</th>\n",
       "      <td>L_lactis</td>\n",
       "      <td>A_fabarum</td>\n",
       "      <td>M_glyc_e</td>\n",
       "      <td>0.000496</td>\n",
       "      <td>0.005391</td>\n",
       "      <td>1.00</td>\n",
       "      <td>kefir</td>\n",
       "      <td>MILK</td>\n",
       "    </tr>\n",
       "  </tbody>\n",
       "</table>\n",
       "</div>"
      ],
      "text/plain": [
       "       donor   receiver   compound  mass_rate      rate  frequency community  \\\n",
       "29  L_lactis  A_fabarum  M_4abut_e   0.004017  0.038957       0.23     kefir   \n",
       "90  L_lactis  A_fabarum   M_glyc_e   0.000496  0.005391       1.00     kefir   \n",
       "\n",
       "   medium  \n",
       "29   MILK  \n",
       "90   MILK  "
      ]
     },
     "execution_count": 5,
     "metadata": {},
     "output_type": "execute_result"
    }
   ],
   "source": [
    "df.query('donor == \"L_lactis\" and receiver == \"A_fabarum\" and frequency > 0.1')"
   ]
  },
  {
   "cell_type": "code",
   "execution_count": 6,
   "id": "4276a64f-6989-418c-9b5b-7b8a4acda2fe",
   "metadata": {
    "tags": []
   },
   "outputs": [
    {
     "name": "stdout",
     "output_type": "stream",
     "text": [
      "Warning: When  cdn_resources is 'local' jupyter notebook has issues displaying graphics on chrome/safari. Use cdn_resources='in_line' or cdn_resources='remote' if you have issues viewing graphics in a notebook.\n",
      "tmp1.html\n"
     ]
    },
    {
     "data": {
      "text/html": [
       "\n",
       "        <iframe\n",
       "            width=\"800px\"\n",
       "            height=\"500px\"\n",
       "            src=\"tmp1.html\"\n",
       "            frameborder=\"0\"\n",
       "            allowfullscreen\n",
       "            \n",
       "        ></iframe>\n",
       "        "
      ],
      "text/plain": [
       "<IPython.lib.display.IFrame at 0x12c57f2e0>"
      ]
     },
     "execution_count": 6,
     "metadata": {},
     "output_type": "execute_result"
    }
   ],
   "source": [
    "from pyvis.network import Network\n",
    "\n",
    "net = Network(directed=True, notebook=True, height='500px', width='800px')\n",
    "\n",
    "selected = df.query(\"frequency > 0.1 and mass_rate > 0.001 and donor != 'environment' and receiver != 'environment'\")\n",
    "\n",
    "species = set(selected['donor']) | set(selected['receiver'])\n",
    "net.add_nodes(species)\n",
    "\n",
    "for cpd in set(selected['compound']):\n",
    "    net.add_node(cpd, shape='box')\n",
    "\n",
    "for _, row in selected.iterrows():\n",
    "    net.add_edge(row['donor'], row['compound'], value=row['mass_rate'])\n",
    "    net.add_edge(row['compound'], row['receiver'], value=row['mass_rate'])\n",
    "\n",
    "net.show('network.html')"
   ]
  },
  {
   "cell_type": "code",
   "execution_count": null,
   "id": "695eea0e-08fb-4e64-beca-ca68dc927cbf",
   "metadata": {},
   "outputs": [],
   "source": []
  }
 ],
 "metadata": {
  "kernelspec": {
   "display_name": "Python 3 (ipykernel)",
   "language": "python",
   "name": "python3"
  },
  "language_info": {
   "codemirror_mode": {
    "name": "ipython",
    "version": 3
   },
   "file_extension": ".py",
   "mimetype": "text/x-python",
   "name": "python",
   "nbconvert_exporter": "python",
   "pygments_lexer": "ipython3",
   "version": "3.10.8"
  }
 },
 "nbformat": 4,
 "nbformat_minor": 5
}
