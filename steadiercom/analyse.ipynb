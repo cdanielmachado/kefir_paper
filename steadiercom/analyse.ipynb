{
 "cells": [
  {
   "cell_type": "code",
   "execution_count": 1,
   "id": "d0ced19e-b15f-4beb-8ff5-36fdb0c0798b",
   "metadata": {
    "tags": []
   },
   "outputs": [],
   "source": [
    "import pandas as pd"
   ]
  },
  {
   "cell_type": "markdown",
   "id": "2e42a618-8c17-4ac4-9630-a6184baea167",
   "metadata": {
    "tags": []
   },
   "source": [
    "### Analysing the output of:\n",
    "\n",
    "`steadiercom *.xml -c abundance.tsv -m MILK --mediadb milk_composition.tsv --growth 0.05 --unlimited unlimited.txt --sample 100` \n",
    "\n",
    "- growth rate grossly estimated from figure 1 (assuming 25-fold total biomass increase in 90 hours)\n",
    "- relative abundances also grossly taken from figure 1 (500:250:200:50)"
   ]
  },
  {
   "cell_type": "code",
   "execution_count": 31,
   "id": "12b5e4fa-8868-41fe-b682-f424b01f0d51",
   "metadata": {
    "tags": []
   },
   "outputs": [],
   "source": [
    "df = pd.read_csv('output.tsv', sep='\\t')"
   ]
  },
  {
   "cell_type": "code",
   "execution_count": 32,
   "id": "49416ac2-28aa-4871-a233-16010a8da869",
   "metadata": {
    "tags": []
   },
   "outputs": [
    {
     "data": {
      "text/html": [
       "<div>\n",
       "<style scoped>\n",
       "    .dataframe tbody tr th:only-of-type {\n",
       "        vertical-align: middle;\n",
       "    }\n",
       "\n",
       "    .dataframe tbody tr th {\n",
       "        vertical-align: top;\n",
       "    }\n",
       "\n",
       "    .dataframe thead th {\n",
       "        text-align: right;\n",
       "    }\n",
       "</style>\n",
       "<table border=\"1\" class=\"dataframe\">\n",
       "  <thead>\n",
       "    <tr style=\"text-align: right;\">\n",
       "      <th></th>\n",
       "      <th>donor</th>\n",
       "      <th>receiver</th>\n",
       "      <th>compound</th>\n",
       "      <th>mass_rate</th>\n",
       "      <th>rate</th>\n",
       "      <th>frequency</th>\n",
       "      <th>community</th>\n",
       "      <th>medium</th>\n",
       "    </tr>\n",
       "  </thead>\n",
       "  <tbody>\n",
       "  </tbody>\n",
       "</table>\n",
       "</div>"
      ],
      "text/plain": [
       "Empty DataFrame\n",
       "Columns: [donor, receiver, compound, mass_rate, rate, frequency, community, medium]\n",
       "Index: []"
      ]
     },
     "execution_count": 32,
     "metadata": {},
     "output_type": "execute_result"
    }
   ],
   "source": [
    "df.query('donor == \"L_kefiranofaciens\" and receiver == \"L_mesenteroides\" and frequency > 0.1')"
   ]
  },
  {
   "cell_type": "code",
   "execution_count": 33,
   "id": "59265522-937a-4b3c-b368-21c7c89980f7",
   "metadata": {
    "tags": []
   },
   "outputs": [
    {
     "data": {
      "text/html": [
       "<div>\n",
       "<style scoped>\n",
       "    .dataframe tbody tr th:only-of-type {\n",
       "        vertical-align: middle;\n",
       "    }\n",
       "\n",
       "    .dataframe tbody tr th {\n",
       "        vertical-align: top;\n",
       "    }\n",
       "\n",
       "    .dataframe thead th {\n",
       "        text-align: right;\n",
       "    }\n",
       "</style>\n",
       "<table border=\"1\" class=\"dataframe\">\n",
       "  <thead>\n",
       "    <tr style=\"text-align: right;\">\n",
       "      <th></th>\n",
       "      <th>donor</th>\n",
       "      <th>receiver</th>\n",
       "      <th>compound</th>\n",
       "      <th>mass_rate</th>\n",
       "      <th>rate</th>\n",
       "      <th>frequency</th>\n",
       "      <th>community</th>\n",
       "      <th>medium</th>\n",
       "    </tr>\n",
       "  </thead>\n",
       "  <tbody>\n",
       "    <tr>\n",
       "      <th>14</th>\n",
       "      <td>L_mesenteroides</td>\n",
       "      <td>L_kefiranofaciens</td>\n",
       "      <td>M_acald_e</td>\n",
       "      <td>0.018770</td>\n",
       "      <td>0.426092</td>\n",
       "      <td>0.35</td>\n",
       "      <td>kefir</td>\n",
       "      <td>MILK</td>\n",
       "    </tr>\n",
       "    <tr>\n",
       "      <th>121</th>\n",
       "      <td>L_mesenteroides</td>\n",
       "      <td>L_kefiranofaciens</td>\n",
       "      <td>M_h2s_e</td>\n",
       "      <td>0.000210</td>\n",
       "      <td>0.006170</td>\n",
       "      <td>1.00</td>\n",
       "      <td>kefir</td>\n",
       "      <td>MILK</td>\n",
       "    </tr>\n",
       "    <tr>\n",
       "      <th>152</th>\n",
       "      <td>L_mesenteroides</td>\n",
       "      <td>L_kefiranofaciens</td>\n",
       "      <td>M_nh4_e</td>\n",
       "      <td>0.000039</td>\n",
       "      <td>0.002174</td>\n",
       "      <td>0.22</td>\n",
       "      <td>kefir</td>\n",
       "      <td>MILK</td>\n",
       "    </tr>\n",
       "  </tbody>\n",
       "</table>\n",
       "</div>"
      ],
      "text/plain": [
       "               donor           receiver   compound  mass_rate      rate  \\\n",
       "14   L_mesenteroides  L_kefiranofaciens  M_acald_e   0.018770  0.426092   \n",
       "121  L_mesenteroides  L_kefiranofaciens    M_h2s_e   0.000210  0.006170   \n",
       "152  L_mesenteroides  L_kefiranofaciens    M_nh4_e   0.000039  0.002174   \n",
       "\n",
       "     frequency community medium  \n",
       "14        0.35     kefir   MILK  \n",
       "121       1.00     kefir   MILK  \n",
       "152       0.22     kefir   MILK  "
      ]
     },
     "execution_count": 33,
     "metadata": {},
     "output_type": "execute_result"
    }
   ],
   "source": [
    "df.query('receiver == \"L_kefiranofaciens\" and donor == \"L_mesenteroides\" and frequency > 0.1' )"
   ]
  },
  {
   "cell_type": "code",
   "execution_count": 34,
   "id": "9f1fc0d1-e9f0-4660-badf-209770063a49",
   "metadata": {
    "tags": []
   },
   "outputs": [
    {
     "data": {
      "text/html": [
       "<div>\n",
       "<style scoped>\n",
       "    .dataframe tbody tr th:only-of-type {\n",
       "        vertical-align: middle;\n",
       "    }\n",
       "\n",
       "    .dataframe tbody tr th {\n",
       "        vertical-align: top;\n",
       "    }\n",
       "\n",
       "    .dataframe thead th {\n",
       "        text-align: right;\n",
       "    }\n",
       "</style>\n",
       "<table border=\"1\" class=\"dataframe\">\n",
       "  <thead>\n",
       "    <tr style=\"text-align: right;\">\n",
       "      <th></th>\n",
       "      <th>donor</th>\n",
       "      <th>receiver</th>\n",
       "      <th>compound</th>\n",
       "      <th>mass_rate</th>\n",
       "      <th>rate</th>\n",
       "      <th>frequency</th>\n",
       "      <th>community</th>\n",
       "      <th>medium</th>\n",
       "    </tr>\n",
       "  </thead>\n",
       "  <tbody>\n",
       "    <tr>\n",
       "      <th>30</th>\n",
       "      <td>L_lactis</td>\n",
       "      <td>A_fabarum</td>\n",
       "      <td>M_4abut_e</td>\n",
       "      <td>0.004752</td>\n",
       "      <td>0.046083</td>\n",
       "      <td>0.33</td>\n",
       "      <td>kefir</td>\n",
       "      <td>MILK</td>\n",
       "    </tr>\n",
       "    <tr>\n",
       "      <th>48</th>\n",
       "      <td>L_lactis</td>\n",
       "      <td>A_fabarum</td>\n",
       "      <td>M_glyc_e</td>\n",
       "      <td>0.001766</td>\n",
       "      <td>0.019172</td>\n",
       "      <td>1.00</td>\n",
       "      <td>kefir</td>\n",
       "      <td>MILK</td>\n",
       "    </tr>\n",
       "    <tr>\n",
       "      <th>131</th>\n",
       "      <td>L_lactis</td>\n",
       "      <td>A_fabarum</td>\n",
       "      <td>M_arg__L_e</td>\n",
       "      <td>0.000127</td>\n",
       "      <td>0.000722</td>\n",
       "      <td>0.79</td>\n",
       "      <td>kefir</td>\n",
       "      <td>MILK</td>\n",
       "    </tr>\n",
       "    <tr>\n",
       "      <th>138</th>\n",
       "      <td>L_lactis</td>\n",
       "      <td>A_fabarum</td>\n",
       "      <td>M_anhgm_e</td>\n",
       "      <td>0.000109</td>\n",
       "      <td>0.000228</td>\n",
       "      <td>0.12</td>\n",
       "      <td>kefir</td>\n",
       "      <td>MILK</td>\n",
       "    </tr>\n",
       "  </tbody>\n",
       "</table>\n",
       "</div>"
      ],
      "text/plain": [
       "        donor   receiver    compound  mass_rate      rate  frequency  \\\n",
       "30   L_lactis  A_fabarum   M_4abut_e   0.004752  0.046083       0.33   \n",
       "48   L_lactis  A_fabarum    M_glyc_e   0.001766  0.019172       1.00   \n",
       "131  L_lactis  A_fabarum  M_arg__L_e   0.000127  0.000722       0.79   \n",
       "138  L_lactis  A_fabarum   M_anhgm_e   0.000109  0.000228       0.12   \n",
       "\n",
       "    community medium  \n",
       "30      kefir   MILK  \n",
       "48      kefir   MILK  \n",
       "131     kefir   MILK  \n",
       "138     kefir   MILK  "
      ]
     },
     "execution_count": 34,
     "metadata": {},
     "output_type": "execute_result"
    }
   ],
   "source": [
    "df.query('donor == \"L_lactis\" and receiver == \"A_fabarum\" and frequency > 0.1')"
   ]
  },
  {
   "cell_type": "code",
   "execution_count": 35,
   "id": "fb5b372b",
   "metadata": {},
   "outputs": [
    {
     "data": {
      "text/html": [
       "<div>\n",
       "<style scoped>\n",
       "    .dataframe tbody tr th:only-of-type {\n",
       "        vertical-align: middle;\n",
       "    }\n",
       "\n",
       "    .dataframe tbody tr th {\n",
       "        vertical-align: top;\n",
       "    }\n",
       "\n",
       "    .dataframe thead th {\n",
       "        text-align: right;\n",
       "    }\n",
       "</style>\n",
       "<table border=\"1\" class=\"dataframe\">\n",
       "  <thead>\n",
       "    <tr style=\"text-align: right;\">\n",
       "      <th></th>\n",
       "      <th>donor</th>\n",
       "      <th>receiver</th>\n",
       "      <th>compound</th>\n",
       "      <th>mass_rate</th>\n",
       "      <th>rate</th>\n",
       "      <th>frequency</th>\n",
       "      <th>community</th>\n",
       "      <th>medium</th>\n",
       "    </tr>\n",
       "  </thead>\n",
       "  <tbody>\n",
       "  </tbody>\n",
       "</table>\n",
       "</div>"
      ],
      "text/plain": [
       "Empty DataFrame\n",
       "Columns: [donor, receiver, compound, mass_rate, rate, frequency, community, medium]\n",
       "Index: []"
      ]
     },
     "execution_count": 35,
     "metadata": {},
     "output_type": "execute_result"
    }
   ],
   "source": [
    "df.query('donor == \"A_fabarum\" and receiver == \"L_lactis\" and frequency > 0.1')"
   ]
  },
  {
   "cell_type": "code",
   "execution_count": 36,
   "id": "580d0a72-8934-4e5c-96e9-f4af2534a113",
   "metadata": {
    "tags": []
   },
   "outputs": [
    {
     "data": {
      "text/html": [
       "<div>\n",
       "<style scoped>\n",
       "    .dataframe tbody tr th:only-of-type {\n",
       "        vertical-align: middle;\n",
       "    }\n",
       "\n",
       "    .dataframe tbody tr th {\n",
       "        vertical-align: top;\n",
       "    }\n",
       "\n",
       "    .dataframe thead th {\n",
       "        text-align: right;\n",
       "    }\n",
       "</style>\n",
       "<table border=\"1\" class=\"dataframe\">\n",
       "  <thead>\n",
       "    <tr style=\"text-align: right;\">\n",
       "      <th></th>\n",
       "      <th>rate</th>\n",
       "    </tr>\n",
       "    <tr>\n",
       "      <th>compound</th>\n",
       "      <th></th>\n",
       "    </tr>\n",
       "  </thead>\n",
       "  <tbody>\n",
       "    <tr>\n",
       "      <th>M_o2_e</th>\n",
       "      <td>1.008831</td>\n",
       "    </tr>\n",
       "    <tr>\n",
       "      <th>M_lcts_e</th>\n",
       "      <td>0.838712</td>\n",
       "    </tr>\n",
       "    <tr>\n",
       "      <th>M_ser__L_e</th>\n",
       "      <td>0.132322</td>\n",
       "    </tr>\n",
       "    <tr>\n",
       "      <th>M_orn_e</th>\n",
       "      <td>0.108997</td>\n",
       "    </tr>\n",
       "    <tr>\n",
       "      <th>M_thr__L_e</th>\n",
       "      <td>0.101928</td>\n",
       "    </tr>\n",
       "    <tr>\n",
       "      <th>M_gly_e</th>\n",
       "      <td>0.093160</td>\n",
       "    </tr>\n",
       "    <tr>\n",
       "      <th>M_glu__L_e</th>\n",
       "      <td>0.078679</td>\n",
       "    </tr>\n",
       "    <tr>\n",
       "      <th>M_asp__L_e</th>\n",
       "      <td>0.064045</td>\n",
       "    </tr>\n",
       "    <tr>\n",
       "      <th>M_val__L_e</th>\n",
       "      <td>0.052263</td>\n",
       "    </tr>\n",
       "    <tr>\n",
       "      <th>M_gln__L_e</th>\n",
       "      <td>0.038796</td>\n",
       "    </tr>\n",
       "    <tr>\n",
       "      <th>M_leu__L_e</th>\n",
       "      <td>0.032684</td>\n",
       "    </tr>\n",
       "    <tr>\n",
       "      <th>M_asn__L_e</th>\n",
       "      <td>0.030955</td>\n",
       "    </tr>\n",
       "    <tr>\n",
       "      <th>M_ile__L_e</th>\n",
       "      <td>0.028153</td>\n",
       "    </tr>\n",
       "    <tr>\n",
       "      <th>M_ala__L_e</th>\n",
       "      <td>0.025391</td>\n",
       "    </tr>\n",
       "    <tr>\n",
       "      <th>M_lys__L_e</th>\n",
       "      <td>0.016745</td>\n",
       "    </tr>\n",
       "    <tr>\n",
       "      <th>M_pro__L_e</th>\n",
       "      <td>0.015232</td>\n",
       "    </tr>\n",
       "    <tr>\n",
       "      <th>M_ura_e</th>\n",
       "      <td>0.010992</td>\n",
       "    </tr>\n",
       "    <tr>\n",
       "      <th>M_gua_e</th>\n",
       "      <td>0.010504</td>\n",
       "    </tr>\n",
       "    <tr>\n",
       "      <th>M_phe__L_e</th>\n",
       "      <td>0.009265</td>\n",
       "    </tr>\n",
       "    <tr>\n",
       "      <th>M_ade_e</th>\n",
       "      <td>0.007659</td>\n",
       "    </tr>\n",
       "    <tr>\n",
       "      <th>M_tyr__L_e</th>\n",
       "      <td>0.006896</td>\n",
       "    </tr>\n",
       "    <tr>\n",
       "      <th>M_xan_e</th>\n",
       "      <td>0.006525</td>\n",
       "    </tr>\n",
       "    <tr>\n",
       "      <th>M_his__L_e</th>\n",
       "      <td>0.004737</td>\n",
       "    </tr>\n",
       "    <tr>\n",
       "      <th>M_trp__L_e</th>\n",
       "      <td>0.002842</td>\n",
       "    </tr>\n",
       "    <tr>\n",
       "      <th>M_ins_e</th>\n",
       "      <td>0.002242</td>\n",
       "    </tr>\n",
       "    <tr>\n",
       "      <th>M_thymd_e</th>\n",
       "      <td>0.000262</td>\n",
       "    </tr>\n",
       "    <tr>\n",
       "      <th>M_fol_e</th>\n",
       "      <td>0.000033</td>\n",
       "    </tr>\n",
       "    <tr>\n",
       "      <th>M_pnto__R_e</th>\n",
       "      <td>0.000027</td>\n",
       "    </tr>\n",
       "    <tr>\n",
       "      <th>M_nac_e</th>\n",
       "      <td>0.000023</td>\n",
       "    </tr>\n",
       "    <tr>\n",
       "      <th>M_ribflv_e</th>\n",
       "      <td>0.000021</td>\n",
       "    </tr>\n",
       "    <tr>\n",
       "      <th>M_thm_e</th>\n",
       "      <td>0.000011</td>\n",
       "    </tr>\n",
       "  </tbody>\n",
       "</table>\n",
       "</div>"
      ],
      "text/plain": [
       "                 rate\n",
       "compound             \n",
       "M_o2_e       1.008831\n",
       "M_lcts_e     0.838712\n",
       "M_ser__L_e   0.132322\n",
       "M_orn_e      0.108997\n",
       "M_thr__L_e   0.101928\n",
       "M_gly_e      0.093160\n",
       "M_glu__L_e   0.078679\n",
       "M_asp__L_e   0.064045\n",
       "M_val__L_e   0.052263\n",
       "M_gln__L_e   0.038796\n",
       "M_leu__L_e   0.032684\n",
       "M_asn__L_e   0.030955\n",
       "M_ile__L_e   0.028153\n",
       "M_ala__L_e   0.025391\n",
       "M_lys__L_e   0.016745\n",
       "M_pro__L_e   0.015232\n",
       "M_ura_e      0.010992\n",
       "M_gua_e      0.010504\n",
       "M_phe__L_e   0.009265\n",
       "M_ade_e      0.007659\n",
       "M_tyr__L_e   0.006896\n",
       "M_xan_e      0.006525\n",
       "M_his__L_e   0.004737\n",
       "M_trp__L_e   0.002842\n",
       "M_ins_e      0.002242\n",
       "M_thymd_e    0.000262\n",
       "M_fol_e      0.000033\n",
       "M_pnto__R_e  0.000027\n",
       "M_nac_e      0.000023\n",
       "M_ribflv_e   0.000021\n",
       "M_thm_e      0.000011"
      ]
     },
     "execution_count": 36,
     "metadata": {},
     "output_type": "execute_result"
    }
   ],
   "source": [
    "df.query(\"donor == 'environment'\").groupby(['compound']).agg({'rate': sum}).sort_values('rate', ascending=False)"
   ]
  },
  {
   "cell_type": "code",
   "execution_count": 10,
   "id": "4276a64f-6989-418c-9b5b-7b8a4acda2fe",
   "metadata": {
    "tags": []
   },
   "outputs": [
    {
     "name": "stdout",
     "output_type": "stream",
     "text": [
      "Warning: When  cdn_resources is 'local' jupyter notebook has issues displaying graphics on chrome/safari. Use cdn_resources='in_line' or cdn_resources='remote' if you have issues viewing graphics in a notebook.\n",
      "network.html\n"
     ]
    },
    {
     "data": {
      "text/html": [
       "\n",
       "        <iframe\n",
       "            width=\"800px\"\n",
       "            height=\"500px\"\n",
       "            src=\"network.html\"\n",
       "            frameborder=\"0\"\n",
       "            allowfullscreen\n",
       "            \n",
       "        ></iframe>\n",
       "        "
      ],
      "text/plain": [
       "<IPython.lib.display.IFrame at 0x13269b5e0>"
      ]
     },
     "execution_count": 10,
     "metadata": {},
     "output_type": "execute_result"
    }
   ],
   "source": [
    "from pyvis.network import Network\n",
    "\n",
    "net = Network(directed=True, notebook=True, height='500px', width='800px')\n",
    "\n",
    "selected = df.query(\"frequency > 0.1 and mass_rate > 0.001 and donor != 'environment' and receiver != 'environment'\")\n",
    "\n",
    "species = set(selected['donor']) | set(selected['receiver'])\n",
    "net.add_nodes(species)\n",
    "\n",
    "for cpd in set(selected['compound']):\n",
    "    net.add_node(cpd, shape='box')\n",
    "\n",
    "for _, row in selected.iterrows():\n",
    "    net.add_edge(row['donor'], row['compound'], value=row['mass_rate'])\n",
    "    net.add_edge(row['compound'], row['receiver'], value=row['mass_rate'])\n",
    "\n",
    "net.show('network.html')"
   ]
  },
  {
   "cell_type": "markdown",
   "id": "48a86100-bf2f-4163-8b4b-26ad5d3dd5e8",
   "metadata": {},
   "source": [
    "### SMETANA"
   ]
  },
  {
   "cell_type": "code",
   "execution_count": 8,
   "id": "b5aedd2d-6898-467a-b8fe-d5e436eb8b83",
   "metadata": {
    "tags": []
   },
   "outputs": [],
   "source": [
    "df2 = pd.read_csv('detailed.tsv', sep='\\t')"
   ]
  },
  {
   "cell_type": "code",
   "execution_count": 9,
   "id": "9f1243b8-20fb-4a55-9e98-39607f83ed9e",
   "metadata": {
    "tags": []
   },
   "outputs": [
    {
     "data": {
      "text/html": [
       "<div>\n",
       "<style scoped>\n",
       "    .dataframe tbody tr th:only-of-type {\n",
       "        vertical-align: middle;\n",
       "    }\n",
       "\n",
       "    .dataframe tbody tr th {\n",
       "        vertical-align: top;\n",
       "    }\n",
       "\n",
       "    .dataframe thead th {\n",
       "        text-align: right;\n",
       "    }\n",
       "</style>\n",
       "<table border=\"1\" class=\"dataframe\">\n",
       "  <thead>\n",
       "    <tr style=\"text-align: right;\">\n",
       "      <th></th>\n",
       "      <th>community</th>\n",
       "      <th>medium</th>\n",
       "      <th>receiver</th>\n",
       "      <th>donor</th>\n",
       "      <th>compound</th>\n",
       "      <th>scs</th>\n",
       "      <th>mus</th>\n",
       "      <th>mps</th>\n",
       "      <th>smetana</th>\n",
       "    </tr>\n",
       "  </thead>\n",
       "  <tbody>\n",
       "    <tr>\n",
       "      <th>35</th>\n",
       "      <td>kefir</td>\n",
       "      <td>MILK</td>\n",
       "      <td>L_mesenteroides</td>\n",
       "      <td>L_kefiranofaciens</td>\n",
       "      <td>M_acald_e</td>\n",
       "      <td>NaN</td>\n",
       "      <td>0.17</td>\n",
       "      <td>1</td>\n",
       "      <td>0.17</td>\n",
       "    </tr>\n",
       "    <tr>\n",
       "      <th>38</th>\n",
       "      <td>kefir</td>\n",
       "      <td>MILK</td>\n",
       "      <td>L_mesenteroides</td>\n",
       "      <td>L_kefiranofaciens</td>\n",
       "      <td>M_glc__D_e</td>\n",
       "      <td>NaN</td>\n",
       "      <td>0.45</td>\n",
       "      <td>1</td>\n",
       "      <td>0.45</td>\n",
       "    </tr>\n",
       "    <tr>\n",
       "      <th>39</th>\n",
       "      <td>kefir</td>\n",
       "      <td>MILK</td>\n",
       "      <td>L_mesenteroides</td>\n",
       "      <td>L_kefiranofaciens</td>\n",
       "      <td>M_h2s_e</td>\n",
       "      <td>NaN</td>\n",
       "      <td>0.82</td>\n",
       "      <td>1</td>\n",
       "      <td>0.82</td>\n",
       "    </tr>\n",
       "  </tbody>\n",
       "</table>\n",
       "</div>"
      ],
      "text/plain": [
       "   community medium         receiver              donor    compound  scs  \\\n",
       "35     kefir   MILK  L_mesenteroides  L_kefiranofaciens   M_acald_e  NaN   \n",
       "38     kefir   MILK  L_mesenteroides  L_kefiranofaciens  M_glc__D_e  NaN   \n",
       "39     kefir   MILK  L_mesenteroides  L_kefiranofaciens     M_h2s_e  NaN   \n",
       "\n",
       "     mus  mps  smetana  \n",
       "35  0.17    1     0.17  \n",
       "38  0.45    1     0.45  \n",
       "39  0.82    1     0.82  "
      ]
     },
     "execution_count": 9,
     "metadata": {},
     "output_type": "execute_result"
    }
   ],
   "source": [
    "df2.query('donor == \"L_kefiranofaciens\" and receiver == \"L_mesenteroides\" and smetana > 0.1')"
   ]
  },
  {
   "cell_type": "code",
   "execution_count": 10,
   "id": "3ef84f23-c7ac-40ea-9cb9-11d01361a4c8",
   "metadata": {
    "tags": []
   },
   "outputs": [
    {
     "data": {
      "text/html": [
       "<div>\n",
       "<style scoped>\n",
       "    .dataframe tbody tr th:only-of-type {\n",
       "        vertical-align: middle;\n",
       "    }\n",
       "\n",
       "    .dataframe tbody tr th {\n",
       "        vertical-align: top;\n",
       "    }\n",
       "\n",
       "    .dataframe thead th {\n",
       "        text-align: right;\n",
       "    }\n",
       "</style>\n",
       "<table border=\"1\" class=\"dataframe\">\n",
       "  <thead>\n",
       "    <tr style=\"text-align: right;\">\n",
       "      <th></th>\n",
       "      <th>community</th>\n",
       "      <th>medium</th>\n",
       "      <th>receiver</th>\n",
       "      <th>donor</th>\n",
       "      <th>compound</th>\n",
       "      <th>scs</th>\n",
       "      <th>mus</th>\n",
       "      <th>mps</th>\n",
       "      <th>smetana</th>\n",
       "    </tr>\n",
       "  </thead>\n",
       "  <tbody>\n",
       "    <tr>\n",
       "      <th>8</th>\n",
       "      <td>kefir</td>\n",
       "      <td>MILK</td>\n",
       "      <td>L_kefiranofaciens</td>\n",
       "      <td>L_mesenteroides</td>\n",
       "      <td>M_acald_e</td>\n",
       "      <td>NaN</td>\n",
       "      <td>0.29</td>\n",
       "      <td>1</td>\n",
       "      <td>0.29</td>\n",
       "    </tr>\n",
       "    <tr>\n",
       "      <th>9</th>\n",
       "      <td>kefir</td>\n",
       "      <td>MILK</td>\n",
       "      <td>L_kefiranofaciens</td>\n",
       "      <td>L_mesenteroides</td>\n",
       "      <td>M_h2s_e</td>\n",
       "      <td>NaN</td>\n",
       "      <td>0.88</td>\n",
       "      <td>1</td>\n",
       "      <td>0.88</td>\n",
       "    </tr>\n",
       "  </tbody>\n",
       "</table>\n",
       "</div>"
      ],
      "text/plain": [
       "  community medium           receiver            donor   compound  scs   mus  \\\n",
       "8     kefir   MILK  L_kefiranofaciens  L_mesenteroides  M_acald_e  NaN  0.29   \n",
       "9     kefir   MILK  L_kefiranofaciens  L_mesenteroides    M_h2s_e  NaN  0.88   \n",
       "\n",
       "   mps  smetana  \n",
       "8    1     0.29  \n",
       "9    1     0.88  "
      ]
     },
     "execution_count": 10,
     "metadata": {},
     "output_type": "execute_result"
    }
   ],
   "source": [
    "df2.query('receiver == \"L_kefiranofaciens\" and donor == \"L_mesenteroides\" and smetana > 0.1' )"
   ]
  },
  {
   "cell_type": "code",
   "execution_count": 11,
   "id": "40ec1439-6ecd-4dc6-bd3c-f9c3a1f51c32",
   "metadata": {
    "tags": []
   },
   "outputs": [
    {
     "data": {
      "text/html": [
       "<div>\n",
       "<style scoped>\n",
       "    .dataframe tbody tr th:only-of-type {\n",
       "        vertical-align: middle;\n",
       "    }\n",
       "\n",
       "    .dataframe tbody tr th {\n",
       "        vertical-align: top;\n",
       "    }\n",
       "\n",
       "    .dataframe thead th {\n",
       "        text-align: right;\n",
       "    }\n",
       "</style>\n",
       "<table border=\"1\" class=\"dataframe\">\n",
       "  <thead>\n",
       "    <tr style=\"text-align: right;\">\n",
       "      <th></th>\n",
       "      <th>community</th>\n",
       "      <th>medium</th>\n",
       "      <th>receiver</th>\n",
       "      <th>donor</th>\n",
       "      <th>compound</th>\n",
       "      <th>scs</th>\n",
       "      <th>mus</th>\n",
       "      <th>mps</th>\n",
       "      <th>smetana</th>\n",
       "    </tr>\n",
       "  </thead>\n",
       "  <tbody>\n",
       "    <tr>\n",
       "      <th>61</th>\n",
       "      <td>kefir</td>\n",
       "      <td>MILK</td>\n",
       "      <td>A_fabarum</td>\n",
       "      <td>L_lactis</td>\n",
       "      <td>M_4abut_e</td>\n",
       "      <td>NaN</td>\n",
       "      <td>0.18</td>\n",
       "      <td>1</td>\n",
       "      <td>0.18</td>\n",
       "    </tr>\n",
       "    <tr>\n",
       "      <th>62</th>\n",
       "      <td>kefir</td>\n",
       "      <td>MILK</td>\n",
       "      <td>A_fabarum</td>\n",
       "      <td>L_lactis</td>\n",
       "      <td>M_acald_e</td>\n",
       "      <td>NaN</td>\n",
       "      <td>0.18</td>\n",
       "      <td>1</td>\n",
       "      <td>0.18</td>\n",
       "    </tr>\n",
       "    <tr>\n",
       "      <th>64</th>\n",
       "      <td>kefir</td>\n",
       "      <td>MILK</td>\n",
       "      <td>A_fabarum</td>\n",
       "      <td>L_lactis</td>\n",
       "      <td>M_glyc_e</td>\n",
       "      <td>NaN</td>\n",
       "      <td>0.18</td>\n",
       "      <td>1</td>\n",
       "      <td>0.18</td>\n",
       "    </tr>\n",
       "    <tr>\n",
       "      <th>65</th>\n",
       "      <td>kefir</td>\n",
       "      <td>MILK</td>\n",
       "      <td>A_fabarum</td>\n",
       "      <td>L_lactis</td>\n",
       "      <td>M_h2s_e</td>\n",
       "      <td>NaN</td>\n",
       "      <td>0.75</td>\n",
       "      <td>1</td>\n",
       "      <td>0.75</td>\n",
       "    </tr>\n",
       "  </tbody>\n",
       "</table>\n",
       "</div>"
      ],
      "text/plain": [
       "   community medium   receiver     donor   compound  scs   mus  mps  smetana\n",
       "61     kefir   MILK  A_fabarum  L_lactis  M_4abut_e  NaN  0.18    1     0.18\n",
       "62     kefir   MILK  A_fabarum  L_lactis  M_acald_e  NaN  0.18    1     0.18\n",
       "64     kefir   MILK  A_fabarum  L_lactis   M_glyc_e  NaN  0.18    1     0.18\n",
       "65     kefir   MILK  A_fabarum  L_lactis    M_h2s_e  NaN  0.75    1     0.75"
      ]
     },
     "execution_count": 11,
     "metadata": {},
     "output_type": "execute_result"
    }
   ],
   "source": [
    "df2.query('donor == \"L_lactis\" and receiver == \"A_fabarum\" and smetana > 0.1')"
   ]
  },
  {
   "cell_type": "code",
   "execution_count": 12,
   "id": "067cb0a0-a9a7-4084-a91a-d26f635af9da",
   "metadata": {
    "tags": []
   },
   "outputs": [
    {
     "name": "stdout",
     "output_type": "stream",
     "text": [
      "Warning: When  cdn_resources is 'local' jupyter notebook has issues displaying graphics on chrome/safari. Use cdn_resources='in_line' or cdn_resources='remote' if you have issues viewing graphics in a notebook.\n",
      "network2.html\n"
     ]
    },
    {
     "data": {
      "text/html": [
       "\n",
       "        <iframe\n",
       "            width=\"800px\"\n",
       "            height=\"500px\"\n",
       "            src=\"network2.html\"\n",
       "            frameborder=\"0\"\n",
       "            allowfullscreen\n",
       "            \n",
       "        ></iframe>\n",
       "        "
      ],
      "text/plain": [
       "<IPython.lib.display.IFrame at 0x12a7e6710>"
      ]
     },
     "execution_count": 12,
     "metadata": {},
     "output_type": "execute_result"
    }
   ],
   "source": [
    "from pyvis.network import Network\n",
    "\n",
    "net = Network(directed=True, notebook=True, height='500px', width='800px')\n",
    "\n",
    "selected = df2.query(\"smetana > 0.1\")\n",
    "\n",
    "species = set(selected['donor']) | set(selected['receiver'])\n",
    "net.add_nodes(species)\n",
    "\n",
    "for cpd in set(selected['compound']):\n",
    "    net.add_node(cpd, shape='box')\n",
    "\n",
    "for _, row in selected.iterrows():\n",
    "    net.add_edge(row['donor'], row['compound'], value=row['smetana'])\n",
    "    net.add_edge(row['compound'], row['receiver'], value=row['smetana'])\n",
    "\n",
    "net.show('network2.html')"
   ]
  },
  {
   "cell_type": "code",
   "execution_count": null,
   "id": "3a8e85b9-2c42-4869-be26-890aba55df66",
   "metadata": {},
   "outputs": [],
   "source": []
  }
 ],
 "metadata": {
  "kernelspec": {
   "display_name": "Python 3 (ipykernel)",
   "language": "python",
   "name": "python3"
  },
  "language_info": {
   "codemirror_mode": {
    "name": "ipython",
    "version": 3
   },
   "file_extension": ".py",
   "mimetype": "text/x-python",
   "name": "python",
   "nbconvert_exporter": "python",
   "pygments_lexer": "ipython3",
   "version": "3.10.8"
  }
 },
 "nbformat": 4,
 "nbformat_minor": 5
}
